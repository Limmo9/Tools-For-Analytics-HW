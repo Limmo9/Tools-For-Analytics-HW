{
 "cells": [
  {
   "cell_type": "markdown",
   "metadata": {},
   "source": [
    "<subject>\n",
    "Assignment How-To\n",
    "</subject>\n",
    "\n",
    "<details>\n",
    "    \n",
    "**Do Not Talk During Quizzes or Exams**\n",
    "\n",
    "Do not talk at all once an exam has begun. You may talk again once you leave the room after the quiz or exam. The one exception to this rule is if you need to ask the exam proctor a question. Any talking during a quiz or exam qualifies the student for disciplinary action.\n",
    "\n",
    "**Naming Conventions**\n",
    "\n",
    "When naming your files for upload, you must follow the format below:\n",
    "\n",
    "    <uni>_<assignment>_<details [optional]>.<extension>\n",
    "\n",
    "For example, if I needed to hand in HW 0, any of the below formats would be sufficient for a file name:\n",
    "\n",
    "- pl2648_hw0.ipynb\n",
    "- pl2648_hw0.txt\n",
    "- pl2648_hw0.sh\n",
    "- pl2648_hw0_all_in_one.txt\n",
    "- Pl2648_hw0_bash_program.sh\n",
    "- Pl2648_quiz1.ipynb\n",
    "\n",
    "This naming format allows for autograding of all assignments. If your files are not named with this format, you should expect a grade of zero for the assignment.\n",
    "\n",
    "Courseworks may rename your file to something like `pl2648_hw0-1.ipynb` if you resubmit your assignment. This is perfectly fine.\n",
    "\n",
    "**What Format To Submit In**\n",
    "\n",
    "Most homework and quizzes are in Jupyter notebooks. Unless specified otherwise, please download your work as an `.ipynb` file from your local machine and upload it to courseworks.\n",
    "\n",
    "\n",
    "**Grading**\n",
    "\n",
    "Possible points on late assignments are deducted by 50% for each day they are late. For example, if you get 80% of the total possible credits on a homework but hand in that homework a day late, you would get 40%. Assignments two days late get zero points.\n",
    "\n",
    "Once solutions are posted and graded assignments are handed back, students have 1 week to bring their grading discrepancies to a CA for consideration of possible grading errors. \n",
    "\n",
    "Because grading is automated, please delete (or comment out) the `raise NotImplmeneted` code before attempting a problem. \n",
    "\n",
    "Empty un-editable cells in an assignment are there for a purpose. They will be filled with tests by the automatic grader. Please do not attempt to remove them.\n",
    "\n",
    "**Getting Help**\n",
    "\n",
    "Asking for help is a great way to increase your chance of success. However there are some rules. When asking for help (especially from a fellow student), *you can show your helper your code but you can not view theirs*. You work needs to be your own. You can not post screenshots of your current work to Piazza or other tools used for getting help.\n",
    "\n",
    "If you need to reach out to a CA for help, please do so via Piazza and not via email. Answers given via Piazza will help you as well as other students. Thus, emails will always have a lower priority for response than Piazza questions. If you do email the CA, please make a note of what section you are in. This helps us identify you in courseworks faster. \n",
    "\n",
    "Finally, if you do not get a repsonse from a CA within 48 hours, you may email the professor.\n",
    "\n",
    "**Multiple Choice**\n",
    "\n",
    "If the question is multiple choice, you will be given several options to choose from and your function will need to return **one** of those options **verbatim** as a string.\n",
    "\n",
    "For example: \n",
    "\n",
    "Which of the following animals bark?\n",
    "\n",
    "- dogs\n",
    "- cats\n",
    "- fish\n",
    "- trees\n",
    "\n",
    "A correct answer would be structured in the following way:\n",
    "\n",
    "```python\n",
    "def question_animals():\n",
    "    return 'dogs'\n",
    "```\n",
    "\n",
    "You answer will be stripped of left and right white space and lowercased before comparison to the correct answer during grading.\n",
    "</details>"
   ]
  },
  {
   "cell_type": "markdown",
   "metadata": {
    "deletable": false,
    "editable": false,
    "nbgrader": {
     "cell_type": "markdown",
     "checksum": "5ce57493ea6b1a4b03627d0dfacbaece",
     "grade": false,
     "grade_id": "cell-c9bc6e54a6b7eb86",
     "locked": true,
     "schema_version": 3,
     "solution": false
    }
   },
   "source": [
    "**Q**: Create a object that represents a store. Have the initialization method take the square footage of the store. Create a method that can calculate the electrical costs for the store given:\n",
    "\n",
    "- $0.15 per kWh\n",
    "- kWh per square foot per hour of 0.19\n",
    "\n",
    "Ensure your class has the following API:\n",
    "\n",
    "Instance attributes: \n",
    "- `square_footage`\n",
    "\n",
    "Class level attributes:\n",
    "- DOLLARS_PER_KWH\n",
    "- KWH_PER_SQUARE_FOOTAGE_PER_HOUR\n",
    "\n",
    "The method that calculates the electrical cost for the store should be named `electrical_cost`.\n",
    "\n",
    "[2 points]"
   ]
  },
  {
   "cell_type": "code",
   "execution_count": 1,
   "metadata": {
    "deletable": false,
    "nbgrader": {
     "cell_type": "code",
     "checksum": "e52069d21697b30db32d49c865f5aa65",
     "grade": false,
     "grade_id": "cell-e0ff639912440f53",
     "locked": false,
     "schema_version": 3,
     "solution": true
    }
   },
   "outputs": [],
   "source": [
    "class Store:\n",
    "    DOLLARS_PER_KWH = 0.15\n",
    "    KWH_PER_SQUARE_FOOTAGE_PER_HOUR = 0.19\n",
    "\n",
    "    def __init__(self, square_footage):\n",
    "        self.square_footage = square_footage\n",
    "    \n",
    "    def electrical_cost(self, hours):\n",
    "        kWh = self.square_footage * self.KWH_PER_SQUARE_FOOTAGE_PER_HOUR\n",
    "        return kWh * self.DOLLARS_PER_KWH * hours"
   ]
  },
  {
   "cell_type": "code",
   "execution_count": 2,
   "metadata": {
    "deletable": false,
    "editable": false,
    "nbgrader": {
     "cell_type": "code",
     "checksum": "f1bd89ec78d2d573dcf9822d5f3c9199",
     "grade": true,
     "grade_id": "cell-e4863bba06d08e3f",
     "locked": true,
     "points": 0.5,
     "schema_version": 3,
     "solution": false
    }
   },
   "outputs": [],
   "source": [
    "### BEGIN TESTS\n",
    "assert Store(2000).square_footage == 2000\n",
    "assert not hasattr(Store, 'square_footage')\n",
    "### END TESTS"
   ]
  },
  {
   "cell_type": "code",
   "execution_count": 3,
   "metadata": {
    "deletable": false,
    "editable": false,
    "nbgrader": {
     "cell_type": "code",
     "checksum": "0c2513fcc1ad0aea144cd7e57fe4c8b1",
     "grade": true,
     "grade_id": "cell-47704c4e3e538b07",
     "locked": true,
     "points": 0.5,
     "schema_version": 3,
     "solution": false
    }
   },
   "outputs": [],
   "source": [
    "### BEGIN TESTS\n",
    "assert hasattr(Store, 'DOLLARS_PER_KWH')\n",
    "assert hasattr(Store, 'KWH_PER_SQUARE_FOOTAGE_PER_HOUR')\n",
    "### END TESTS"
   ]
  },
  {
   "cell_type": "code",
   "execution_count": 4,
   "metadata": {
    "deletable": false,
    "editable": false,
    "nbgrader": {
     "cell_type": "code",
     "checksum": "5382925607698b210d8dcc996671a33d",
     "grade": true,
     "grade_id": "cell-e9ab2e3e055a711f",
     "locked": true,
     "points": 1,
     "schema_version": 3,
     "solution": false
    }
   },
   "outputs": [],
   "source": [
    "### BEGIN TESTS\n",
    "assert Store(2000).electrical_cost(900) == 51300\n",
    "### END TESTS"
   ]
  },
  {
   "cell_type": "markdown",
   "metadata": {
    "deletable": false,
    "editable": false,
    "nbgrader": {
     "cell_type": "markdown",
     "checksum": "e9cbb23306d26e01964e252d659a8c9b",
     "grade": false,
     "grade_id": "cell-b242d4bfddbf0838",
     "locked": true,
     "schema_version": 3,
     "solution": false
    }
   },
   "source": [
    "**Q**: Create a counter class that takes a string and can produce (via a method named count) a `dict` containing each word in the string as its keys and the counts of each word in the string as its values. Words are any token separated by a space. The class should not be case sensitive (ie. \"It\" and \"it\" are the same word).\n",
    "\n",
    "\n",
    "```python\n",
    ">>> c = Counter('This is my best string. It is a great string.')\n",
    ">>> c.count()\n",
    "{'a': 1,\n",
    " 'best': 1,\n",
    " 'great': 1,\n",
    " 'is': 2,\n",
    " 'it': 1,\n",
    " 'my': 1,\n",
    " 'string.': 2,\n",
    " 'this': 1}\n",
    " ```\n",
    " \n",
    "**Class API**\n",
    "\n",
    "Instance attributes:\n",
    "  - \"string\"\n",
    "  \n",
    "You can not use the collections module.\n",
    " \n",
    "[2 points]"
   ]
  },
  {
   "cell_type": "code",
   "execution_count": 5,
   "metadata": {
    "deletable": false,
    "nbgrader": {
     "cell_type": "code",
     "checksum": "e107b0a887fc915580c72beea0a30e64",
     "grade": false,
     "grade_id": "cell-0be5d346f805f3fb",
     "locked": false,
     "schema_version": 3,
     "solution": true
    }
   },
   "outputs": [],
   "source": [
    "class Counter:\n",
    "    def __init__(self, string):\n",
    "        self.string = string.lower()\n",
    "    \n",
    "    def count(self):\n",
    "        d = {}\n",
    "        for word in self.string.split():\n",
    "            if word not in d:\n",
    "                d[word] = 0\n",
    "            d[word] += 1\n",
    "        return d"
   ]
  },
  {
   "cell_type": "code",
   "execution_count": 6,
   "metadata": {
    "deletable": false,
    "editable": false,
    "nbgrader": {
     "cell_type": "code",
     "checksum": "a0fa89dcb94301e8814c7edc759b3af8",
     "grade": true,
     "grade_id": "cell-59639940597f3439",
     "locked": true,
     "points": 0.5,
     "schema_version": 3,
     "solution": false
    }
   },
   "outputs": [],
   "source": [
    "### BEGIN TESTS\n",
    "counter = Counter('This is my best string. It is a great string.')\n",
    "assert len(counter.count()) == 8\n",
    "### END TESTS"
   ]
  },
  {
   "cell_type": "code",
   "execution_count": 7,
   "metadata": {
    "deletable": false,
    "editable": false,
    "nbgrader": {
     "cell_type": "code",
     "checksum": "974d09e439688deaba63d227760e07dd",
     "grade": true,
     "grade_id": "cell-ea0b8e76389a0ae2",
     "locked": true,
     "points": 0.5,
     "schema_version": 3,
     "solution": false
    }
   },
   "outputs": [],
   "source": [
    "### BEGIN TESTS\n",
    "counter = Counter('This is my best string. It is a great string.')\n",
    "assert hasattr(counter, 'string')\n",
    "assert not hasattr(Counter, 'string')\n",
    "### END TESTS"
   ]
  },
  {
   "cell_type": "code",
   "execution_count": null,
   "metadata": {
    "deletable": false,
    "editable": false,
    "nbgrader": {
     "cell_type": "code",
     "checksum": "384f22b9bd81d1c100133071353f5ebc",
     "grade": true,
     "grade_id": "cell-91fa2691c9bea2eb",
     "locked": true,
     "points": 1,
     "schema_version": 3,
     "solution": false
    }
   },
   "outputs": [],
   "source": []
  },
  {
   "cell_type": "markdown",
   "metadata": {
    "deletable": false,
    "editable": false,
    "nbgrader": {
     "cell_type": "markdown",
     "checksum": "9ddd5c44242a0468b025be389fc0d693",
     "grade": false,
     "grade_id": "cell-4459d9e5b57a0683",
     "locked": true,
     "schema_version": 3,
     "solution": false
    }
   },
   "source": [
    "**Q**: Update the counter class to have the appropriate methods for presentation when being passed to `repr` and `str`. `repr` should return the object class name and a truncated version of the counter's string. The string should be truncated to 10 characters and an ellipsis added if the string is over 10 characters. `str` should return the object class name and the key count.\n",
    "\n",
    "You may need to search the Python documentation for the correct methods to implement for this problem.\n",
    "\n",
    "```python\n",
    ">>> obj = Counter('Fe Fi Fo Fum, where is my drum')\n",
    ">>> repr(obj)\n",
    "<Counter 'Fe Fi Fo F...'>\n",
    ">>> str(obj)\n",
    "'Counter(8)'\n",
    "```\n",
    "\n",
    "[1 point]"
   ]
  },
  {
   "cell_type": "code",
   "execution_count": 8,
   "metadata": {
    "deletable": false,
    "nbgrader": {
     "cell_type": "code",
     "checksum": "7916798bf3e7903e017a3c38f168b06b",
     "grade": false,
     "grade_id": "cell-eff92fe808b528d9",
     "locked": false,
     "schema_version": 3,
     "solution": true
    }
   },
   "outputs": [],
   "source": [
    "class Counter:\n",
    "    def __init__(self, string):\n",
    "        self.string = string\n",
    "    \n",
    "    def count(self):\n",
    "        d = {}\n",
    "        for word in self.string.split():\n",
    "            if word not in d:\n",
    "                d[word] = 0\n",
    "            d[word] += 1\n",
    "        return d\n",
    "\n",
    "    def __repr__(self):\n",
    "        string = self.string\n",
    "        if len(string) > 10:\n",
    "            string = string[:10] + '...'\n",
    "            \n",
    "        return f\"<{self.__class__.__name__} '{string}'>\"\n",
    "    \n",
    "    def __str__(self):\n",
    "        return f'{self.__class__.__name__}({len(self.count())})'"
   ]
  },
  {
   "cell_type": "code",
   "execution_count": null,
   "metadata": {
    "deletable": false,
    "editable": false,
    "nbgrader": {
     "cell_type": "code",
     "checksum": "8f7ab1bd356129ed33ed0042ef7c8933",
     "grade": true,
     "grade_id": "cell-42a5d9c016cae56f",
     "locked": true,
     "points": 0.25,
     "schema_version": 3,
     "solution": false
    }
   },
   "outputs": [],
   "source": []
  },
  {
   "cell_type": "code",
   "execution_count": 9,
   "metadata": {
    "deletable": false,
    "editable": false,
    "nbgrader": {
     "cell_type": "code",
     "checksum": "adc68d16d6b743255007c289a57d9445",
     "grade": true,
     "grade_id": "cell-76d7e759c0c50b24",
     "locked": true,
     "points": 0.25,
     "schema_version": 3,
     "solution": false
    }
   },
   "outputs": [],
   "source": [
    "### BEGIN TESTS\n",
    "counter = Counter('This is my best string. It is a great string.')\n",
    "assert repr(counter) == \"<Counter 'This is my...'>\"\n",
    "### END TESTS"
   ]
  },
  {
   "cell_type": "code",
   "execution_count": 10,
   "metadata": {
    "deletable": false,
    "editable": false,
    "nbgrader": {
     "cell_type": "code",
     "checksum": "d7a64feec8dc1cd4f6981ff3ae98f36f",
     "grade": true,
     "grade_id": "cell-a6990dafdb2b143c",
     "locked": true,
     "points": 0.25,
     "schema_version": 3,
     "solution": false
    }
   },
   "outputs": [],
   "source": [
    "### BEGIN TESTS\n",
    "counter = Counter('Woot woot!')\n",
    "assert repr(counter) == \"<Counter 'Woot woot!'>\"\n",
    "### END TESTS"
   ]
  },
  {
   "cell_type": "code",
   "execution_count": 11,
   "metadata": {
    "deletable": false,
    "editable": false,
    "nbgrader": {
     "cell_type": "code",
     "checksum": "f6eef9fb2a92fda7bc9a0b1c81c4b4a4",
     "grade": true,
     "grade_id": "cell-d5d109b50b154b18",
     "locked": true,
     "points": 0.25,
     "schema_version": 3,
     "solution": false
    }
   },
   "outputs": [],
   "source": [
    "### BEGIN TESTS\n",
    "counter = Counter('This is my best string. It is a great string.')\n",
    "assert str(counter) == 'Counter(8)'\n",
    "### END TESTS"
   ]
  },
  {
   "cell_type": "markdown",
   "metadata": {
    "deletable": false,
    "editable": false,
    "nbgrader": {
     "cell_type": "markdown",
     "checksum": "c3e8bde805351fff6a3d2bd91a647d29",
     "grade": false,
     "grade_id": "cell-80bd99f06e0f551a",
     "locked": true,
     "schema_version": 3,
     "solution": false
    }
   },
   "source": [
    "**Q**: Create a custom exception for a severe lack of parties. It should be called `SevereLackOfPartiesError` and should subclass `ValueError`. The class should have a docstring that describes what the error represents. Use your imagination for the exact text. \n",
    "\n",
    "[1 point]"
   ]
  },
  {
   "cell_type": "code",
   "execution_count": 12,
   "metadata": {
    "deletable": false,
    "nbgrader": {
     "cell_type": "code",
     "checksum": "4a8a7947db5dcb7e18b73a51f713317c",
     "grade": false,
     "grade_id": "cell-7368367ae633aef9",
     "locked": false,
     "schema_version": 3,
     "solution": true
    }
   },
   "outputs": [],
   "source": [
    "class SevereLackOfPartiesError(ValueError):\n",
    "    \"\"\"An utter failure in getting the party started.\"\"\"\n",
    "    pass"
   ]
  },
  {
   "cell_type": "code",
   "execution_count": null,
   "metadata": {
    "deletable": false,
    "editable": false,
    "nbgrader": {
     "cell_type": "code",
     "checksum": "e03b59521c628e138cbaab9fc07581a0",
     "grade": true,
     "grade_id": "cell-78f404be90d25d2e",
     "locked": true,
     "points": 0.5,
     "schema_version": 3,
     "solution": false
    }
   },
   "outputs": [],
   "source": []
  },
  {
   "cell_type": "code",
   "execution_count": null,
   "metadata": {
    "deletable": false,
    "editable": false,
    "nbgrader": {
     "cell_type": "code",
     "checksum": "d0c4a8bfae61b31ccefa98b29ff66529",
     "grade": true,
     "grade_id": "cell-1b63d2e6166363a1",
     "locked": true,
     "points": 0.5,
     "schema_version": 3,
     "solution": false
    }
   },
   "outputs": [],
   "source": []
  },
  {
   "cell_type": "markdown",
   "metadata": {
    "deletable": false,
    "editable": false,
    "nbgrader": {
     "cell_type": "markdown",
     "checksum": "eeadec35584b817d12c6edb5bcadebe9",
     "grade": false,
     "grade_id": "cell-62f4a3711318b2a8",
     "locked": true,
     "schema_version": 3,
     "solution": false
    }
   },
   "source": [
    "**Q**: Create a class `Str` that subclasses `str`. Add a method to the subclass that checks if the string does not start with a given string. Call that method `notstartswith`. This class should only take up 3 lines of code however you will not be graded on the length of your class.\n",
    "\n",
    "[1 point]"
   ]
  },
  {
   "cell_type": "code",
   "execution_count": 13,
   "metadata": {
    "deletable": false,
    "nbgrader": {
     "cell_type": "code",
     "checksum": "0569698aab4c3f483e5bcf7a37832f19",
     "grade": false,
     "grade_id": "cell-931411951b8973e6",
     "locked": false,
     "schema_version": 3,
     "solution": true
    }
   },
   "outputs": [],
   "source": [
    "class Str(str):\n",
    "    def notstartswith(self, s):\n",
    "        return not self.startswith(s)"
   ]
  },
  {
   "cell_type": "code",
   "execution_count": null,
   "metadata": {
    "deletable": false,
    "editable": false,
    "nbgrader": {
     "cell_type": "code",
     "checksum": "43ef0c2405be5b90649d7a1ea81c07d3",
     "grade": true,
     "grade_id": "cell-dde9e6cf99caf6bc",
     "locked": true,
     "points": 0.5,
     "schema_version": 3,
     "solution": false
    }
   },
   "outputs": [],
   "source": []
  },
  {
   "cell_type": "code",
   "execution_count": null,
   "metadata": {
    "deletable": false,
    "editable": false,
    "nbgrader": {
     "cell_type": "code",
     "checksum": "3034c034ff87746abbc8d625cc292fb2",
     "grade": true,
     "grade_id": "cell-767d16e4e70c6601",
     "locked": true,
     "points": 0.25,
     "schema_version": 3,
     "solution": false
    }
   },
   "outputs": [],
   "source": []
  },
  {
   "cell_type": "code",
   "execution_count": null,
   "metadata": {
    "deletable": false,
    "editable": false,
    "nbgrader": {
     "cell_type": "code",
     "checksum": "d0ea7f84d9a0168666814c40f328050c",
     "grade": true,
     "grade_id": "cell-7f7773df3332732e",
     "locked": true,
     "points": 0.25,
     "schema_version": 3,
     "solution": false
    }
   },
   "outputs": [],
   "source": []
  },
  {
   "cell_type": "markdown",
   "metadata": {
    "collapsed": true,
    "deletable": false,
    "editable": false,
    "nbgrader": {
     "cell_type": "markdown",
     "checksum": "d9411146bbcd56b62ae9f019b5a308e1",
     "grade": false,
     "grade_id": "cell-27a4aba0217b0a56",
     "locked": true,
     "schema_version": 3,
     "solution": false
    }
   },
   "source": [
    "**Q**: Create a `BankAccount` class that is instantiated with an account number and an optional initial balance. Add methods to withdraw and deposit to the account's balance. Also, add a method that allows for the casting of objects of this class to a string.\n",
    "\n",
    "```python\n",
    "a = BankAccount(12345678, balance=10)\n",
    "a.deposit(5)\n",
    "a.withdraw(3)\n",
    "str(a)\n",
    "\n",
    "'Account ID: 12345678 - Balance: 12'\n",
    "```\n",
    "\n",
    "[2 points]"
   ]
  },
  {
   "cell_type": "code",
   "execution_count": 14,
   "metadata": {
    "deletable": false,
    "nbgrader": {
     "cell_type": "code",
     "checksum": "930e1a812c6e126d08992fdd2b29bc82",
     "grade": false,
     "grade_id": "cell-31e546afd67a9412",
     "locked": false,
     "schema_version": 3,
     "solution": true
    }
   },
   "outputs": [],
   "source": [
    "class BankAccount:\n",
    "    def __init__(self, account_id, balance=0):\n",
    "        self.account_id = account_id\n",
    "        self.balance = balance\n",
    "\n",
    "    def withdraw(self, amount):\n",
    "        self.balance -= amount\n",
    "        return self.balance\n",
    "\n",
    "    def deposit(self, amount):\n",
    "        self.balance += amount\n",
    "        return self.balance\n",
    "    \n",
    "    def __str__(self):\n",
    "        return f'Account ID: {self.account_id} - Balance: {self.balance}'"
   ]
  },
  {
   "cell_type": "code",
   "execution_count": 15,
   "metadata": {
    "deletable": false,
    "editable": false,
    "nbgrader": {
     "cell_type": "code",
     "checksum": "b3c2fadd1abcb876830f47164fba350f",
     "grade": true,
     "grade_id": "cell-78f78a2ea5d08b99",
     "locked": true,
     "points": 0.5,
     "schema_version": 3,
     "solution": false
    }
   },
   "outputs": [],
   "source": [
    "### BEGIN TESTS\n",
    "assert str(BankAccount(4839283, balance=2010)) == 'Account ID: 4839283 - Balance: 2010'\n",
    "### END TESTS"
   ]
  },
  {
   "cell_type": "code",
   "execution_count": 16,
   "metadata": {
    "deletable": false,
    "editable": false,
    "nbgrader": {
     "cell_type": "code",
     "checksum": "33bc360ba930fae90cf28de77dd25d11",
     "grade": true,
     "grade_id": "cell-e706bb44eae7db75",
     "locked": true,
     "points": 0.5,
     "schema_version": 3,
     "solution": false
    }
   },
   "outputs": [],
   "source": [
    "### BEGIN TESTS\n",
    "assert BankAccount(1).balance == 0\n",
    "### END TESTS"
   ]
  },
  {
   "cell_type": "code",
   "execution_count": 17,
   "metadata": {
    "deletable": false,
    "editable": false,
    "nbgrader": {
     "cell_type": "code",
     "checksum": "55b77d44a88bba3462c51a02b7c23b25",
     "grade": true,
     "grade_id": "cell-da11f9aeadad2c39",
     "locked": true,
     "points": 0.5,
     "schema_version": 3,
     "solution": false
    }
   },
   "outputs": [],
   "source": [
    "### BEGIN TESTS\n",
    "a = BankAccount(1)\n",
    "a.deposit(150)\n",
    "assert a.balance == 150\n",
    "### END TESTS"
   ]
  },
  {
   "cell_type": "code",
   "execution_count": 18,
   "metadata": {
    "deletable": false,
    "editable": false,
    "nbgrader": {
     "cell_type": "code",
     "checksum": "924c65c9d4325a5b429debe00f1d292e",
     "grade": true,
     "grade_id": "cell-0f6bc2f6bd8c7a9c",
     "locked": true,
     "points": 0.5,
     "schema_version": 3,
     "solution": false
    }
   },
   "outputs": [],
   "source": [
    "### BEGIN TESTS\n",
    "a = BankAccount(1)\n",
    "a.deposit(150)\n",
    "a.withdraw(27)\n",
    "assert a.balance == 123\n",
    "### END TESTS"
   ]
  },
  {
   "cell_type": "markdown",
   "metadata": {
    "deletable": false,
    "editable": false,
    "nbgrader": {
     "cell_type": "markdown",
     "checksum": "36aaab667e9df595ba7e399e2f2272ea",
     "grade": false,
     "grade_id": "cell-9edfb04d2e47b86d",
     "locked": true,
     "schema_version": 3,
     "solution": false
    }
   },
   "source": [
    "**Q**: Subclass the `BankAccount` class from the previous question to create a `MinBalanceBankAccount` class. This class should require a minimum balance at all times and should raise an exception (of the type `ValueError`) when an attempt to drop the balance below the minumum occurs. The `MinBalanceBankAccount` should be instantiated with the account number, inital balance, and the minimum balance. No error checking against the minimum balance is necessary upon instantiation.\n",
    "\n",
    "```python\n",
    "a = MinBalanceBankAccount(account_id=1, balance=100, minimum_balance=10)\n",
    "a.withdraw(100)\n",
    "...\n",
    "ValueError: Sorry, minimum balance must be maintained.\n",
    "```\n",
    "\n",
    "If raised, the `ValueError` should have the message: 'Sorry, minimum balance must be maintained.'\n",
    "\n",
    "A minimum of extra code should be implemented in `withdraw` to meet the requirements of this question.\n",
    "\n",
    "[2 points]"
   ]
  },
  {
   "cell_type": "code",
   "execution_count": 19,
   "metadata": {
    "deletable": false,
    "nbgrader": {
     "cell_type": "code",
     "checksum": "6267acaf34f3096c30d8acf7292dd0a4",
     "grade": false,
     "grade_id": "cell-ffede70c71976fef",
     "locked": false,
     "schema_version": 3,
     "solution": true
    }
   },
   "outputs": [],
   "source": [
    "class MinBalanceBankAccount(BankAccount):\n",
    "    def __init__(self, account_id, balance, minimum_balance):\n",
    "        self.minimum_balance = minimum_balance\n",
    "        super().__init__(account_id, balance)\n",
    "        \n",
    "    def withdraw(self, amount):\n",
    "        if self.balance - amount < self.minimum_balance:\n",
    "            raise ValueError('Sorry, minimum balance must be maintained.')\n",
    "\n",
    "        super().withdraw(amount)"
   ]
  },
  {
   "cell_type": "code",
   "execution_count": 20,
   "metadata": {
    "deletable": false,
    "editable": false,
    "nbgrader": {
     "cell_type": "code",
     "checksum": "c77b9f2b5ac7eec3d6ab513d00b42678",
     "grade": true,
     "grade_id": "cell-4d189116d6cb3d51",
     "locked": true,
     "points": 0.5,
     "schema_version": 3,
     "solution": false
    }
   },
   "outputs": [],
   "source": [
    "### BEGIN TESTS\n",
    "try:\n",
    "    MinBalanceBankAccount(1, 100, 10).withdraw(100)\n",
    "    assert False, 'Should have raised value Error'\n",
    "except ValueError as e:\n",
    "    assert str(e) == 'Sorry, minimum balance must be maintained.'\n",
    "### END TESTS"
   ]
  },
  {
   "cell_type": "code",
   "execution_count": null,
   "metadata": {
    "deletable": false,
    "editable": false,
    "nbgrader": {
     "cell_type": "code",
     "checksum": "eae1cc3441f79a01dd0aa5012db00b65",
     "grade": true,
     "grade_id": "cell-496de9ecb2b38244",
     "locked": true,
     "points": 0.5,
     "schema_version": 3,
     "solution": false
    }
   },
   "outputs": [],
   "source": []
  },
  {
   "cell_type": "code",
   "execution_count": 21,
   "metadata": {
    "deletable": false,
    "editable": false,
    "nbgrader": {
     "cell_type": "code",
     "checksum": "2d2347ada3f20a03e8c073f0fdbe5cf9",
     "grade": true,
     "grade_id": "cell-74b6dba911c7df84",
     "locked": true,
     "points": 0.5,
     "schema_version": 3,
     "solution": false
    }
   },
   "outputs": [],
   "source": [
    "### BEGIN TESTS\n",
    "assert issubclass(MinBalanceBankAccount, BankAccount)\n",
    "### END TESTS"
   ]
  },
  {
   "cell_type": "code",
   "execution_count": 22,
   "metadata": {
    "deletable": false,
    "editable": false,
    "nbgrader": {
     "cell_type": "code",
     "checksum": "51ecf2ef6528b0747fb5d9bbfd2e4787",
     "grade": true,
     "grade_id": "cell-3d7deeb06f900ce3",
     "locked": true,
     "points": 0.5,
     "schema_version": 3,
     "solution": false
    }
   },
   "outputs": [],
   "source": [
    "### BEGIN TESTS\n",
    "a = MinBalanceBankAccount(1, 100, 10)\n",
    "a.deposit(150)\n",
    "a.withdraw(27)\n",
    "assert a.balance == 223\n",
    "### END TESTS"
   ]
  },
  {
   "cell_type": "markdown",
   "metadata": {
    "collapsed": true,
    "deletable": false,
    "editable": false,
    "nbgrader": {
     "cell_type": "markdown",
     "checksum": "76924c68a0396178149fc95edc9a6589",
     "grade": false,
     "grade_id": "cell-ce9019a436d61d6a",
     "locked": true,
     "schema_version": 3,
     "solution": false
    }
   },
   "source": [
    "**Extra Practice** Create a class that produces objects that are both iterables and iterators. "
   ]
  },
  {
   "cell_type": "code",
   "execution_count": 25,
   "metadata": {
    "deletable": false,
    "nbgrader": {
     "cell_type": "code",
     "checksum": "cb022eb42bbff76853c44cde00c4d6e8",
     "grade": false,
     "grade_id": "cell-acfb6cbf62089d2f",
     "locked": false,
     "schema_version": 3,
     "solution": true
    }
   },
   "outputs": [],
   "source": [
    "class MyRange:\n",
    "    def __init__(self, start, stop):\n",
    "        self.start = 0\n",
    "        self.stop = stop\n",
    "        self.pos = None\n",
    "\n",
    "    def __iter__(self):\n",
    "        return self  \n",
    "        # Hand back the object that will keep track \n",
    "        # of progress as we step through iterable.\n",
    "    \n",
    "    def __next__(self):\n",
    "        if self.pos is None:\n",
    "            self.pos = self.start\n",
    "        else:\n",
    "            self.pos += 1\n",
    "        \n",
    "        if self.pos >= self.stop:\n",
    "            raise StopIteration\n",
    "\n",
    "        return self.pos\n",
    "# YOUR CODE HERE"
   ]
  },
  {
   "cell_type": "code",
   "execution_count": 26,
   "metadata": {
    "deletable": false,
    "editable": false,
    "nbgrader": {
     "cell_type": "code",
     "checksum": "cd89048f25ffcde55f82930379814f58",
     "grade": true,
     "grade_id": "cell-ef5f590e0182d168",
     "locked": true,
     "points": 0,
     "schema_version": 3,
     "solution": false
    }
   },
   "outputs": [],
   "source": [
    "### BEGIN TESTS\n",
    "assert list(MyRange(1, 5)) == [0, 1, 2, 3, 4]\n",
    "### END TESTS"
   ]
  },
  {
   "cell_type": "code",
   "execution_count": null,
   "metadata": {},
   "outputs": [],
   "source": []
  }
 ],
 "metadata": {
  "anaconda-cloud": {},
  "kernelspec": {
   "display_name": "Python 3",
   "language": "python",
   "name": "python3"
  },
  "language_info": {
   "codemirror_mode": {
    "name": "ipython",
    "version": 3
   },
   "file_extension": ".py",
   "mimetype": "text/x-python",
   "name": "python",
   "nbconvert_exporter": "python",
   "pygments_lexer": "ipython3",
   "version": "3.7.6"
  }
 },
 "nbformat": 4,
 "nbformat_minor": 1
}
